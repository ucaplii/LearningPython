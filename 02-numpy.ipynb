{
 "cells": [
  {
   "cell_type": "markdown",
   "id": "9a0610ff-2d48-45e1-9810-a0f7f6adf5f4",
   "metadata": {},
   "source": [
    "## Libraies for scientific research"
   ]
  },
  {
   "cell_type": "markdown",
   "id": "ed3d17ee-9523-460f-85f4-ccff07eb79ea",
   "metadata": {},
   "source": [
    "import numpy"
   ]
  },
  {
   "cell_type": "code",
   "execution_count": 3,
   "id": "d63979ee-6e62-46fb-8df4-3d35c8b49921",
   "metadata": {},
   "outputs": [],
   "source": [
    "import numpy"
   ]
  },
  {
   "cell_type": "code",
   "execution_count": 5,
   "id": "00c44db6-a789-4bc0-89ee-9d07c6f72dad",
   "metadata": {},
   "outputs": [
    {
     "data": {
      "text/plain": [
       "array([[0., 0., 1., ..., 3., 0., 0.],\n",
       "       [0., 1., 2., ..., 1., 0., 1.],\n",
       "       [0., 1., 1., ..., 2., 1., 1.],\n",
       "       ...,\n",
       "       [0., 1., 1., ..., 1., 1., 1.],\n",
       "       [0., 0., 0., ..., 0., 2., 0.],\n",
       "       [0., 0., 1., ..., 1., 1., 0.]])"
      ]
     },
     "execution_count": 5,
     "metadata": {},
     "output_type": "execute_result"
    }
   ],
   "source": [
    "numpy.loadtxt(fname='data/inflammation-01.csv',delimiter=',')"
   ]
  },
  {
   "cell_type": "code",
   "execution_count": 7,
   "id": "5b38602a-d330-425f-8577-4e82725395a1",
   "metadata": {},
   "outputs": [],
   "source": [
    "arthritis=numpy.loadtxt(fname='data/inflammation-01.csv',delimiter=',')"
   ]
  },
  {
   "cell_type": "code",
   "execution_count": 8,
   "id": "a941f430-4d05-43e6-b3f3-f616a5e884dd",
   "metadata": {},
   "outputs": [
    {
     "data": {
      "text/plain": [
       "array([[0., 0., 1., ..., 3., 0., 0.],\n",
       "       [0., 1., 2., ..., 1., 0., 1.],\n",
       "       [0., 1., 1., ..., 2., 1., 1.],\n",
       "       ...,\n",
       "       [0., 1., 1., ..., 1., 1., 1.],\n",
       "       [0., 0., 0., ..., 0., 2., 0.],\n",
       "       [0., 0., 1., ..., 1., 1., 0.]])"
      ]
     },
     "execution_count": 8,
     "metadata": {},
     "output_type": "execute_result"
    }
   ],
   "source": [
    "arthritis"
   ]
  },
  {
   "cell_type": "code",
   "execution_count": 9,
   "id": "2eead5fe-829b-4252-8b8c-dca71629414d",
   "metadata": {},
   "outputs": [
    {
     "name": "stdout",
     "output_type": "stream",
     "text": [
      "float64\n",
      "(60, 40)\n"
     ]
    }
   ],
   "source": [
    "print(arthritis.dtype)\n",
    "print(arthritis.shape)"
   ]
  },
  {
   "cell_type": "code",
   "execution_count": 11,
   "id": "839181d5-c24b-48bc-80ee-83e6f230a319",
   "metadata": {},
   "outputs": [
    {
     "name": "stdout",
     "output_type": "stream",
     "text": [
      "first value in arthritis: 0.0\n"
     ]
    }
   ],
   "source": [
    "print(\"first value in arthritis:\",arthritis[0,0])   "
   ]
  },
  {
   "cell_type": "code",
   "execution_count": 12,
   "id": "7c3e28b0-2811-49aa-8b99-4723b0ea58f4",
   "metadata": {},
   "outputs": [
    {
     "name": "stdout",
     "output_type": "stream",
     "text": [
      "middle value: 13.0\n"
     ]
    }
   ],
   "source": [
    "print(\"middle value:\",arthritis[30,20])"
   ]
  },
  {
   "cell_type": "code",
   "execution_count": 13,
   "id": "e2b6fcf7-0c43-4b62-ac50-ea420081152c",
   "metadata": {},
   "outputs": [
    {
     "name": "stdout",
     "output_type": "stream",
     "text": [
      "[[0. 0. 1. 3. 1. 2. 4. 7. 8. 3.]\n",
      " [0. 1. 2. 1. 2. 1. 3. 2. 2. 6.]\n",
      " [0. 1. 1. 3. 3. 2. 6. 2. 5. 9.]\n",
      " [0. 0. 2. 0. 4. 2. 2. 1. 6. 7.]]\n"
     ]
    }
   ],
   "source": [
    "print(arthritis[0:4,0:10])"
   ]
  },
  {
   "cell_type": "code",
   "execution_count": 18,
   "id": "3baf3daa-9de3-4e35-b0c3-29bc75a76cc5",
   "metadata": {},
   "outputs": [
    {
     "name": "stdout",
     "output_type": "stream",
     "text": [
      "[[2. 3. 0. 0.]\n",
      " [1. 1. 0. 1.]\n",
      " [2. 2. 1. 1.]]\n"
     ]
    }
   ],
   "source": [
    "corner = arthritis[:3, 36:]\n",
    "print(corner)"
   ]
  },
  {
   "cell_type": "code",
   "execution_count": 16,
   "id": "5efca585-46a0-4ba5-ac59-58b886abdb6b",
   "metadata": {},
   "outputs": [
    {
     "data": {
      "text/plain": [
       "'xy'"
      ]
     },
     "execution_count": 16,
     "metadata": {},
     "output_type": "execute_result"
    }
   ],
   "source": [
    "\"oxygen\"[1:3]"
   ]
  },
  {
   "cell_type": "code",
   "execution_count": 17,
   "id": "6440b50a-5a73-454e-8864-6c7a2b322c31",
   "metadata": {},
   "outputs": [
    {
     "data": {
      "text/plain": [
       "'xyg'"
      ]
     },
     "execution_count": 17,
     "metadata": {},
     "output_type": "execute_result"
    }
   ],
   "source": [
    "\"oxygen\"[1:4]"
   ]
  },
  {
   "cell_type": "markdown",
   "id": "4d89a077-4b26-41cd-946c-5f6ad60cbe91",
   "metadata": {},
   "source": [
    "## Operation"
   ]
  },
  {
   "cell_type": "code",
   "execution_count": 20,
   "id": "684df819-2949-447d-91a8-e0107c097b5e",
   "metadata": {},
   "outputs": [],
   "source": [
    "double_arthritis = arthritis*2"
   ]
  },
  {
   "cell_type": "code",
   "execution_count": 21,
   "id": "22fbd96e-90b3-4076-80a3-ab64f971f03a",
   "metadata": {},
   "outputs": [
    {
     "name": "stdout",
     "output_type": "stream",
     "text": [
      "original\n",
      "[[2. 3. 0. 0.]\n",
      " [1. 1. 0. 1.]\n",
      " [2. 2. 1. 1.]]\n",
      "double\n",
      "[[4. 6. 0. 0.]\n",
      " [2. 2. 0. 2.]\n",
      " [4. 4. 2. 2.]]\n"
     ]
    }
   ],
   "source": [
    "print(\"original\")\n",
    "print(arthritis[:3, 36:])\n",
    "print(\"double\")\n",
    "print(double_arthritis[:3, 36:])"
   ]
  },
  {
   "cell_type": "code",
   "execution_count": 22,
   "id": "4ed81001-3b47-4b52-b18a-78dcf7a1007a",
   "metadata": {},
   "outputs": [],
   "source": [
    "triple_arhritis = double_arthritis+arthritis"
   ]
  },
  {
   "cell_type": "code",
   "execution_count": 23,
   "id": "5824e09b-a2d3-4d58-9b3e-56cfdd209b71",
   "metadata": {},
   "outputs": [
    {
     "name": "stdout",
     "output_type": "stream",
     "text": [
      "[[6. 9. 0. 0.]\n",
      " [3. 3. 0. 3.]\n",
      " [6. 6. 3. 3.]]\n"
     ]
    }
   ],
   "source": [
    "print(triple_arhritis[:3,36:])"
   ]
  },
  {
   "cell_type": "markdown",
   "id": "9c3fccb6-68f6-4a9e-bef8-af3c025984ac",
   "metadata": {},
   "source": [
    "## Method"
   ]
  },
  {
   "cell_type": "code",
   "execution_count": 26,
   "id": "1ed4e913-2220-4629-bda2-de4305628377",
   "metadata": {},
   "outputs": [
    {
     "name": "stdout",
     "output_type": "stream",
     "text": [
      "6.14875\n"
     ]
    }
   ],
   "source": [
    "print(arthritis.mean())"
   ]
  },
  {
   "cell_type": "code",
   "execution_count": 27,
   "id": "76a5acf9-eb22-4310-ae4e-e5703c1b9805",
   "metadata": {},
   "outputs": [
    {
     "name": "stdout",
     "output_type": "stream",
     "text": [
      "maximum inflamaamation: 20.0\n"
     ]
    }
   ],
   "source": [
    "print(\"maximum inflamaamation:\",arthritis.max())"
   ]
  },
  {
   "cell_type": "code",
   "execution_count": 28,
   "id": "cef42e52-da12-48e2-b323-0fc392c6310f",
   "metadata": {},
   "outputs": [
    {
     "name": "stdout",
     "output_type": "stream",
     "text": [
      "minimum inflamaamation: 0.0\n"
     ]
    }
   ],
   "source": [
    "print(\"minimum inflamaamation:\",arthritis.min())"
   ]
  },
  {
   "cell_type": "code",
   "execution_count": 29,
   "id": "76bdc1d6-dac1-44cb-91fe-9c4388e4c65d",
   "metadata": {},
   "outputs": [
    {
     "name": "stdout",
     "output_type": "stream",
     "text": [
      "standard deviation: 4.613833197118566\n"
     ]
    }
   ],
   "source": [
    "print(\"standard deviation:\",arthritis.std())"
   ]
  },
  {
   "cell_type": "code",
   "execution_count": 30,
   "id": "9f41ab21-acf4-45dd-b1f0-709407c8acc0",
   "metadata": {},
   "outputs": [
    {
     "data": {
      "text/plain": [
       "2400"
      ]
     },
     "execution_count": 30,
     "metadata": {},
     "output_type": "execute_result"
    }
   ],
   "source": [
    "arthritis.size"
   ]
  },
  {
   "cell_type": "code",
   "execution_count": 31,
   "id": "e1f78b16-c8c4-4c56-a131-b8802ceb398f",
   "metadata": {},
   "outputs": [
    {
     "name": "stdout",
     "output_type": "stream",
     "text": [
      "maximum inflammation for patient 0: 18.0\n"
     ]
    }
   ],
   "source": [
    "patient_0 = arthritis[0,:]\n",
    "print(\"maximum inflammation for patient 0:\", patient_0.max())"
   ]
  },
  {
   "cell_type": "code",
   "execution_count": 32,
   "id": "39214ea4-6fa6-49ce-b450-c37a58bcb882",
   "metadata": {},
   "outputs": [
    {
     "name": "stdout",
     "output_type": "stream",
     "text": [
      "maximum inflammation for patient 2: 19.0\n"
     ]
    }
   ],
   "source": [
    "print(\"maximum inflammation for patient 2:\", arthritis[2,:].max())"
   ]
  },
  {
   "cell_type": "code",
   "execution_count": 34,
   "id": "f264ebe8-e2f8-489b-97f9-183471c9809c",
   "metadata": {},
   "outputs": [
    {
     "name": "stdout",
     "output_type": "stream",
     "text": [
      "[18. 18. 19. 17. 17. 18. 17. 20. 17. 18. 18. 18. 17. 16. 17. 18. 19. 19.\n",
      " 17. 19. 19. 16. 17. 15. 17. 17. 18. 17. 20. 17. 16. 19. 15. 15. 19. 17.\n",
      " 16. 17. 19. 16. 18. 19. 16. 19. 18. 16. 19. 15. 16. 18. 14. 20. 17. 15.\n",
      " 17. 16. 17. 19. 18. 18.]\n"
     ]
    }
   ],
   "source": [
    "print(arthritis.max(axis=1))"
   ]
  },
  {
   "cell_type": "code",
   "execution_count": 36,
   "id": "aeb83642-ceb6-44e0-a096-812d8aed9511",
   "metadata": {},
   "outputs": [
    {
     "name": "stdout",
     "output_type": "stream",
     "text": [
      "[ 0.  1.  2.  3.  4.  5.  6.  7.  8.  9. 10. 11. 12. 13. 14. 15. 16. 17.\n",
      " 18. 19. 20. 19. 18. 17. 16. 15. 14. 13. 12. 11. 10.  9.  8.  7.  6.  5.\n",
      "  4.  3.  2.  1.]\n"
     ]
    }
   ],
   "source": [
    "print(arthritis.max(axis=0))"
   ]
  },
  {
   "cell_type": "code",
   "execution_count": 37,
   "id": "164574f5-c6c5-4242-90c2-bae87eec6015",
   "metadata": {},
   "outputs": [
    {
     "name": "stdout",
     "output_type": "stream",
     "text": [
      "(60,)\n",
      "(40,)\n"
     ]
    }
   ],
   "source": [
    "print(arthritis.max(axis=1).shape)\n",
    "print(arthritis.max(axis=0).shape)"
   ]
  },
  {
   "cell_type": "code",
   "execution_count": 38,
   "id": "a2a93f7b-0832-4e74-874b-89731f125c7c",
   "metadata": {},
   "outputs": [
    {
     "data": {
      "text/plain": [
       "3.898397106504159"
      ]
     },
     "execution_count": 38,
     "metadata": {},
     "output_type": "execute_result"
    }
   ],
   "source": [
    "arthritis[0,:].std()"
   ]
  },
  {
   "cell_type": "code",
   "execution_count": 39,
   "id": "23bed268-2941-40a4-afd3-ce93bcfed0d4",
   "metadata": {},
   "outputs": [
    {
     "name": "stdout",
     "output_type": "stream",
     "text": [
      "the average of the standard deviation for all the patients\n",
      "4.579294680644961\n"
     ]
    }
   ],
   "source": [
    "print(\"the average of the standard deviation for all the patients\")\n",
    "print(arthritis.std(axis=1).mean())"
   ]
  },
  {
   "cell_type": "code",
   "execution_count": 40,
   "id": "e24b3cad-44d0-4721-955b-d4a2edc51384",
   "metadata": {},
   "outputs": [
    {
     "data": {
      "text/plain": [
       "4.579294680644961"
      ]
     },
     "execution_count": 40,
     "metadata": {},
     "output_type": "execute_result"
    }
   ],
   "source": [
    "numpy.mean(numpy.std(arthritis, axis=1))"
   ]
  },
  {
   "cell_type": "code",
   "execution_count": null,
   "id": "7810989a-ba97-4efe-a41f-bdfd1df30fba",
   "metadata": {},
   "outputs": [],
   "source": []
  }
 ],
 "metadata": {
  "kernelspec": {
   "display_name": "Python 3 (ipykernel)",
   "language": "python",
   "name": "python3"
  },
  "language_info": {
   "codemirror_mode": {
    "name": "ipython",
    "version": 3
   },
   "file_extension": ".py",
   "mimetype": "text/x-python",
   "name": "python",
   "nbconvert_exporter": "python",
   "pygments_lexer": "ipython3",
   "version": "3.9.12"
  }
 },
 "nbformat": 4,
 "nbformat_minor": 5
}
