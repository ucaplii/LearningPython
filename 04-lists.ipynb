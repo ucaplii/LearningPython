{
 "cells": [
  {
   "cell_type": "code",
   "execution_count": 1,
   "id": "25348d93-7d55-41b9-b270-a5c7b505a6be",
   "metadata": {},
   "outputs": [],
   "source": [
    "odds = [1,3,5,7]"
   ]
  },
  {
   "cell_type": "code",
   "execution_count": 2,
   "id": "67cca866-313d-466d-9d78-0430805eba80",
   "metadata": {},
   "outputs": [
    {
     "name": "stdout",
     "output_type": "stream",
     "text": [
      "odds are: [1, 3, 5, 7]\n"
     ]
    }
   ],
   "source": [
    "print('odds are:',odds)"
   ]
  },
  {
   "cell_type": "code",
   "execution_count": 4,
   "id": "fc39f96b-abd3-40a9-9c4e-59ec3216a94a",
   "metadata": {},
   "outputs": [
    {
     "name": "stdout",
     "output_type": "stream",
     "text": [
      "First element in the list 1\n"
     ]
    }
   ],
   "source": [
    "print('First element in the list',odds[0])"
   ]
  },
  {
   "cell_type": "code",
   "execution_count": 6,
   "id": "b2909f04-4d1f-4c4a-b939-295206bdd740",
   "metadata": {},
   "outputs": [
    {
     "name": "stdout",
     "output_type": "stream",
     "text": [
      "Lasr element in the list 7\n"
     ]
    }
   ],
   "source": [
    "print('Lasr element in the list',odds[-1])"
   ]
  },
  {
   "cell_type": "code",
   "execution_count": 7,
   "id": "035081d4-b10c-4471-85e8-6c9c963e318c",
   "metadata": {},
   "outputs": [
    {
     "name": "stdout",
     "output_type": "stream",
     "text": [
      "Every second element in the list [1, 5]\n"
     ]
    }
   ],
   "source": [
    "print(\"Every second element in the list\",odds[0::2])"
   ]
  },
  {
   "cell_type": "code",
   "execution_count": 9,
   "id": "7c574f0a-7f69-43ae-a163-564134e73628",
   "metadata": {},
   "outputs": [
    {
     "name": "stdout",
     "output_type": "stream",
     "text": [
      "name is originally ['Curie', 'Darwing', 'Turing']\n",
      "final value of names ['Curie', 'Darwin', 'Turing']\n"
     ]
    }
   ],
   "source": [
    "names = [\"Curie\",\"Darwing\",\"Turing\"]\n",
    "print('name is originally',names)\n",
    "names[1] = \"Darwin\"\n",
    "print('final value of names',names)"
   ]
  },
  {
   "cell_type": "code",
   "execution_count": 10,
   "id": "e12b0d0d-790e-4560-afef-455e1a80a194",
   "metadata": {},
   "outputs": [
    {
     "name": "stdout",
     "output_type": "stream",
     "text": [
      "first character in the name D\n"
     ]
    }
   ],
   "source": [
    "name = \"Darwin\"\n",
    "print('first character in the name',name[0])"
   ]
  },
  {
   "cell_type": "code",
   "execution_count": 11,
   "id": "1a3f94d6-0c3e-4835-b879-52bb8b29f31a",
   "metadata": {},
   "outputs": [
    {
     "ename": "TypeError",
     "evalue": "'str' object does not support item assignment",
     "output_type": "error",
     "traceback": [
      "\u001b[1;31m---------------------------------------------------------------------------\u001b[0m",
      "\u001b[1;31mTypeError\u001b[0m                                 Traceback (most recent call last)",
      "Input \u001b[1;32mIn [11]\u001b[0m, in \u001b[0;36m<cell line: 1>\u001b[1;34m()\u001b[0m\n\u001b[1;32m----> 1\u001b[0m name[\u001b[38;5;241m0\u001b[39m] \u001b[38;5;241m=\u001b[39m \u001b[38;5;124m\"\u001b[39m\u001b[38;5;124md\u001b[39m\u001b[38;5;124m\"\u001b[39m\n",
      "\u001b[1;31mTypeError\u001b[0m: 'str' object does not support item assignment"
     ]
    }
   ],
   "source": [
    "name[0] = \"d\""
   ]
  },
  {
   "cell_type": "code",
   "execution_count": 12,
   "id": "1535db05-4f96-4208-bd8f-7e78901dfa79",
   "metadata": {},
   "outputs": [],
   "source": [
    "x = [\n",
    "    [\"peper\",\"courgette\",\"onion\"],\n",
    "    [\"cabbage\",\"lettuce\",\"garlic\"],\n",
    "    [\"apple\",\"pear\",\"banana\"]\n",
    "]"
   ]
  },
  {
   "cell_type": "code",
   "execution_count": 13,
   "id": "ceb8f2a5-b635-4607-b907-937a4f844c85",
   "metadata": {},
   "outputs": [
    {
     "name": "stdout",
     "output_type": "stream",
     "text": [
      "['peper', 'courgette', 'onion']\n"
     ]
    }
   ],
   "source": [
    "print(x[0])"
   ]
  },
  {
   "cell_type": "code",
   "execution_count": 14,
   "id": "01a4dc1d-8611-4358-947e-f208d1919ee9",
   "metadata": {},
   "outputs": [
    {
     "name": "stdout",
     "output_type": "stream",
     "text": [
      "courgette\n"
     ]
    }
   ],
   "source": [
    "print(x[0][1])"
   ]
  },
  {
   "cell_type": "code",
   "execution_count": 15,
   "id": "ee2b2eb2-2810-456b-aad9-8f5aeae06e8e",
   "metadata": {},
   "outputs": [],
   "source": [
    "sample_ages = [10,12.5,\"Unknown\"]"
   ]
  },
  {
   "cell_type": "code",
   "execution_count": 17,
   "id": "9bfa7a4d-1e28-425b-9e12-e977fd3235c7",
   "metadata": {},
   "outputs": [
    {
     "name": "stdout",
     "output_type": "stream",
     "text": [
      "<class 'int'>\n",
      "<class 'float'>\n",
      "<class 'str'>\n"
     ]
    }
   ],
   "source": [
    "print(type(sample_ages[0]))\n",
    "print(type(sample_ages[1]))\n",
    "print(type(sample_ages[2]))"
   ]
  },
  {
   "cell_type": "code",
   "execution_count": 18,
   "id": "850975df-c073-4007-8c9c-b319b246b66a",
   "metadata": {},
   "outputs": [
    {
     "name": "stdout",
     "output_type": "stream",
     "text": [
      "odds after adding a value [1, 3, 5, 7, 11]\n"
     ]
    }
   ],
   "source": [
    "odds.append(11)\n",
    "print('odds after adding a value', odds)"
   ]
  },
  {
   "cell_type": "code",
   "execution_count": 22,
   "id": "764a5fc4-1194-4097-9f87-b008222317a3",
   "metadata": {},
   "outputs": [
    {
     "name": "stdout",
     "output_type": "stream",
     "text": [
      "odds after removing the first element [3, 5, 7, 11]\n",
      "removed_element 1\n"
     ]
    }
   ],
   "source": [
    "odds = [1,3,5,7]\n",
    "odds.append(11)\n",
    "removed_element = odds.pop(0)\n",
    "print('odds after removing the first element',odds)\n",
    "print('removed_element',removed_element)"
   ]
  },
  {
   "cell_type": "code",
   "execution_count": 23,
   "id": "18db18e1-bccd-43de-8c14-55687805ab5a",
   "metadata": {},
   "outputs": [
    {
     "name": "stdout",
     "output_type": "stream",
     "text": [
      "None\n"
     ]
    }
   ],
   "source": [
    "print(odds.reverse())"
   ]
  },
  {
   "cell_type": "code",
   "execution_count": 24,
   "id": "bcf6e153-4004-42eb-84cf-b23a8a392410",
   "metadata": {},
   "outputs": [
    {
     "data": {
      "text/plain": [
       "[11, 7, 5, 3]"
      ]
     },
     "execution_count": 24,
     "metadata": {},
     "output_type": "execute_result"
    }
   ],
   "source": [
    "odds"
   ]
  },
  {
   "cell_type": "code",
   "execution_count": 25,
   "id": "d94cd836-185d-4d53-b1dd-92096a2950dd",
   "metadata": {},
   "outputs": [],
   "source": [
    "string_for_slicing = 'observation date: 02-Feb-2013'"
   ]
  },
  {
   "cell_type": "code",
   "execution_count": 36,
   "id": "9fae3488-ee21-4827-80e3-f0bac1ce9ea8",
   "metadata": {},
   "outputs": [
    {
     "name": "stdout",
     "output_type": "stream",
     "text": [
      "the last four characters of the string: 2013\n"
     ]
    }
   ],
   "source": [
    "print('the last four characters of the string:',string_for_slicing[-4:])"
   ]
  },
  {
   "cell_type": "code",
   "execution_count": 38,
   "id": "249e289c-88b2-46cb-a09a-68daaf89c780",
   "metadata": {},
   "outputs": [],
   "source": [
    "beatles = \"In an octopus's garden in the shade\""
   ]
  },
  {
   "cell_type": "code",
   "execution_count": 39,
   "id": "baf866e4-9bb9-47c1-b0ff-3652f5a96f97",
   "metadata": {},
   "outputs": [
    {
     "data": {
      "text/plain": [
       "\"In an octopus's garden in the shade\""
      ]
     },
     "execution_count": 39,
     "metadata": {},
     "output_type": "execute_result"
    }
   ],
   "source": [
    "beatles[0::]"
   ]
  },
  {
   "cell_type": "code",
   "execution_count": 41,
   "id": "8e84ecd3-1f52-47df-af02-3f8de26feca4",
   "metadata": {},
   "outputs": [
    {
     "data": {
      "text/plain": [
       "'I notpssgre ntesae'"
      ]
     },
     "execution_count": 41,
     "metadata": {},
     "output_type": "execute_result"
    }
   ],
   "source": [
    "beatles[0::2]"
   ]
  },
  {
   "cell_type": "code",
   "execution_count": 42,
   "id": "b6001548-8a8c-48b1-ba16-60a08c1fc75f",
   "metadata": {},
   "outputs": [
    {
     "data": {
      "text/plain": [
       "'I notpssgre ntesae'"
      ]
     },
     "execution_count": 42,
     "metadata": {},
     "output_type": "execute_result"
    }
   ],
   "source": [
    "beatles[::2]"
   ]
  },
  {
   "cell_type": "code",
   "execution_count": null,
   "id": "80eb3090-c5c8-4a37-9b8b-16449c6a36c6",
   "metadata": {},
   "outputs": [],
   "source": []
  }
 ],
 "metadata": {
  "kernelspec": {
   "display_name": "Python 3 (ipykernel)",
   "language": "python",
   "name": "python3"
  },
  "language_info": {
   "codemirror_mode": {
    "name": "ipython",
    "version": 3
   },
   "file_extension": ".py",
   "mimetype": "text/x-python",
   "name": "python",
   "nbconvert_exporter": "python",
   "pygments_lexer": "ipython3",
   "version": "3.9.12"
  }
 },
 "nbformat": 4,
 "nbformat_minor": 5
}
