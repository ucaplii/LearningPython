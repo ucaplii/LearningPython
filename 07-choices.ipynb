{
 "cells": [
  {
   "cell_type": "code",
   "execution_count": 1,
   "id": "cabd616e-3160-4ec9-913c-d58b5ac44c0f",
   "metadata": {},
   "outputs": [
    {
     "name": "stdout",
     "output_type": "stream",
     "text": [
      "Not greater than 100\n",
      "Done\n"
     ]
    }
   ],
   "source": [
    "num = 37\n",
    "if num > 100:\n",
    "    print('Greater than 100')\n",
    "else:\n",
    "    print('Not greater than 100')\n",
    "print('Done')"
   ]
  },
  {
   "cell_type": "code",
   "execution_count": 2,
   "id": "b1b649a6-3742-42e2-bbbd-6b4f7c0dbd8a",
   "metadata": {},
   "outputs": [
    {
     "name": "stdout",
     "output_type": "stream",
     "text": [
      "Not greater than 100\n",
      "Done\n"
     ]
    }
   ],
   "source": [
    "num = 100\n",
    "if num > 100:\n",
    "    print('Greater than 100')\n",
    "else:\n",
    "    print('Not greater than 100')\n",
    "print('Done')"
   ]
  },
  {
   "cell_type": "code",
   "execution_count": 3,
   "id": "3f31f516-8a91-4633-bc39-9abbb6ece70a",
   "metadata": {},
   "outputs": [
    {
     "data": {
      "text/plain": [
       "True"
      ]
     },
     "execution_count": 3,
     "metadata": {},
     "output_type": "execute_result"
    }
   ],
   "source": [
    "2 < 4"
   ]
  },
  {
   "cell_type": "code",
   "execution_count": 5,
   "id": "a772ab08-15c7-4b76-a8e6-9c04ed2cf616",
   "metadata": {},
   "outputs": [
    {
     "data": {
      "text/plain": [
       "False"
      ]
     },
     "execution_count": 5,
     "metadata": {},
     "output_type": "execute_result"
    }
   ],
   "source": [
    "2 == 4"
   ]
  },
  {
   "cell_type": "code",
   "execution_count": 9,
   "id": "e4074b1f-688c-4c54-8546-8578a7530fc0",
   "metadata": {},
   "outputs": [
    {
     "data": {
      "text/plain": [
       "False"
      ]
     },
     "execution_count": 9,
     "metadata": {},
     "output_type": "execute_result"
    }
   ],
   "source": [
    "name = \"Curie\"\n",
    "second_name = \"Turing\"\n",
    "name == second_name"
   ]
  },
  {
   "cell_type": "code",
   "execution_count": 10,
   "id": "89635d4e-355d-467d-892b-dc094b4ba8df",
   "metadata": {},
   "outputs": [
    {
     "data": {
      "text/plain": [
       "True"
      ]
     },
     "execution_count": 10,
     "metadata": {},
     "output_type": "execute_result"
    }
   ],
   "source": [
    "name <= second_name"
   ]
  },
  {
   "cell_type": "code",
   "execution_count": 11,
   "id": "0aa0be3c-91e1-4205-8a80-42a84072451d",
   "metadata": {},
   "outputs": [
    {
     "data": {
      "text/plain": [
       "True"
      ]
     },
     "execution_count": 11,
     "metadata": {},
     "output_type": "execute_result"
    }
   ],
   "source": [
    "name != second_name"
   ]
  },
  {
   "cell_type": "code",
   "execution_count": 12,
   "id": "164ebbe7-025d-4f2e-a779-a83db891c07b",
   "metadata": {},
   "outputs": [
    {
     "name": "stdout",
     "output_type": "stream",
     "text": [
      "at least one test is true\n"
     ]
    }
   ],
   "source": [
    "if (1 < 0) or (1 >= 0):\n",
    "    print('at least one test is true')"
   ]
  },
  {
   "cell_type": "code",
   "execution_count": 13,
   "id": "e5008927-cd9a-48e3-a9e0-4a4f3828f9db",
   "metadata": {},
   "outputs": [],
   "source": [
    "import numpy as np"
   ]
  },
  {
   "cell_type": "code",
   "execution_count": 14,
   "id": "71c49553-2bd5-4e76-ae0e-e003d495cbce",
   "metadata": {},
   "outputs": [],
   "source": [
    " data = np.loadtxt(\"data/inflammation-01.csv\",delimiter=\",\")"
   ]
  },
  {
   "cell_type": "code",
   "execution_count": 18,
   "id": "8644ea32-a76d-404c-95ca-ca489def3206",
   "metadata": {},
   "outputs": [
    {
     "name": "stdout",
     "output_type": "stream",
     "text": [
      "suspicious looking maxima\n"
     ]
    }
   ],
   "source": [
    "max_inflammation_0 = data.max(axis=0)[0]\n",
    "max_inflammation_20 = data.max(axis=0)[20]\n",
    "\n",
    "if max_inflammation_0 == 0 and max_inflammation_20 == 20:\n",
    "    print('suspicious looking maxima')"
   ]
  },
  {
   "cell_type": "code",
   "execution_count": 19,
   "id": "3a739639-b0d0-4e61-9678-cda3c8ff44c5",
   "metadata": {},
   "outputs": [
    {
     "name": "stdout",
     "output_type": "stream",
     "text": [
      "suspicious looking maxima\n"
     ]
    }
   ],
   "source": [
    "if max_inflammation_0 == 0 and max_inflammation_20 == 20:\n",
    "    print('suspicious looking maxima')\n",
    "elif data.min(axis=0).sum() == 0:\n",
    "    print(\"Minima add up to zero\")\n",
    "else:\n",
    "    print(\"Seems okay\")"
   ]
  },
  {
   "cell_type": "code",
   "execution_count": null,
   "id": "09d3ca46-4d12-4d68-b233-4d734a2eab7d",
   "metadata": {},
   "outputs": [],
   "source": []
  }
 ],
 "metadata": {
  "kernelspec": {
   "display_name": "Python 3 (ipykernel)",
   "language": "python",
   "name": "python3"
  },
  "language_info": {
   "codemirror_mode": {
    "name": "ipython",
    "version": 3
   },
   "file_extension": ".py",
   "mimetype": "text/x-python",
   "name": "python",
   "nbconvert_exporter": "python",
   "pygments_lexer": "ipython3",
   "version": "3.9.12"
  }
 },
 "nbformat": 4,
 "nbformat_minor": 5
}
