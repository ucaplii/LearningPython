{
 "cells": [
  {
   "cell_type": "code",
   "execution_count": 2,
   "id": "88f5fa43-6af8-4999-833d-6b7c50f80416",
   "metadata": {},
   "outputs": [
    {
     "ename": "NameError",
     "evalue": "name 'Thisbsdcgudsciusu' is not defined",
     "output_type": "error",
     "traceback": [
      "\u001b[1;31m---------------------------------------------------------------------------\u001b[0m",
      "\u001b[1;31mNameError\u001b[0m                                 Traceback (most recent call last)",
      "Input \u001b[1;32mIn [2]\u001b[0m, in \u001b[0;36m<cell line: 2>\u001b[1;34m()\u001b[0m\n\u001b[0;32m      1\u001b[0m \u001b[38;5;66;03m# Variables\u001b[39;00m\n\u001b[1;32m----> 2\u001b[0m \u001b[43mThisbsdcgudsciusu\u001b[49m\n",
      "\u001b[1;31mNameError\u001b[0m: name 'Thisbsdcgudsciusu' is not defined"
     ]
    }
   ],
   "source": [
    "# Variables\n",
    "Thisbsdcgudsciusu\n",
    "\n",
    "\n",
    "\n",
    "\n",
    "\n",
    "\n",
    "\n",
    "\n",
    "\n",
    "\n",
    "\n",
    "\n",
    "\n"
   ]
  },
  {
   "cell_type": "markdown",
   "id": "03784e73-5f6b-4d6b-8f06-8d0a35c1dde7",
   "metadata": {},
   "source": [
    "# Variables\n",
    "This is the first notebook of this coures"
   ]
  },
  {
   "cell_type": "code",
   "execution_count": 5,
   "id": "0aa1d78a-7cfb-4986-8a7e-14a42d7d1417",
   "metadata": {},
   "outputs": [
    {
     "name": "stdout",
     "output_type": "stream",
     "text": [
      "hello\n"
     ]
    }
   ],
   "source": [
    "print('hello')"
   ]
  },
  {
   "cell_type": "markdown",
   "id": "6af7a69a-ffcf-4f30-9125-3957ecb28419",
   "metadata": {},
   "source": [
    "jvjjgjfdeewwedwf\n"
   ]
  },
  {
   "cell_type": "markdown",
   "id": "c59f3cf8-73f6-4c71-a5f4-c8cd313a376e",
   "metadata": {},
   "source": []
  },
  {
   "cell_type": "code",
   "execution_count": 8,
   "id": "c95c9305-65bc-4625-8407-f16682a0961a",
   "metadata": {},
   "outputs": [],
   "source": [
    "mass = 47.5"
   ]
  },
  {
   "cell_type": "code",
   "execution_count": 9,
   "id": "37d94000-b9bb-47c7-82eb-bce0900a7bac",
   "metadata": {},
   "outputs": [],
   "source": [
    "mass = mass*2"
   ]
  },
  {
   "cell_type": "code",
   "execution_count": 10,
   "id": "ba14273b-320e-446d-bc2f-169a545dca81",
   "metadata": {},
   "outputs": [
    {
     "data": {
      "text/plain": [
       "95.0"
      ]
     },
     "execution_count": 10,
     "metadata": {},
     "output_type": "execute_result"
    }
   ],
   "source": [
    "mass"
   ]
  },
  {
   "cell_type": "code",
   "execution_count": 11,
   "id": "79ec3cd5-3133-4ff0-9faa-b0d845db69c6",
   "metadata": {},
   "outputs": [],
   "source": [
    "age = 122"
   ]
  },
  {
   "cell_type": "code",
   "execution_count": 12,
   "id": "1acfb4e7-44d3-44e8-9564-2a78b8d4f507",
   "metadata": {},
   "outputs": [],
   "source": [
    "age = age-20"
   ]
  },
  {
   "cell_type": "code",
   "execution_count": 13,
   "id": "e8aa0362-30d1-4e51-b7be-008cec873c0c",
   "metadata": {},
   "outputs": [
    {
     "data": {
      "text/plain": [
       "102"
      ]
     },
     "execution_count": 13,
     "metadata": {},
     "output_type": "execute_result"
    }
   ],
   "source": [
    "age"
   ]
  },
  {
   "cell_type": "code",
   "execution_count": null,
   "id": "2c36f6c9-6644-4390-8d8c-ad55aa0dc1a5",
   "metadata": {},
   "outputs": [],
   "source": []
  }
 ],
 "metadata": {
  "kernelspec": {
   "display_name": "Python 3 (ipykernel)",
   "language": "python",
   "name": "python3"
  },
  "language_info": {
   "codemirror_mode": {
    "name": "ipython",
    "version": 3
   },
   "file_extension": ".py",
   "mimetype": "text/x-python",
   "name": "python",
   "nbconvert_exporter": "python",
   "pygments_lexer": "ipython3",
   "version": "3.9.12"
  }
 },
 "nbformat": 4,
 "nbformat_minor": 5
}
